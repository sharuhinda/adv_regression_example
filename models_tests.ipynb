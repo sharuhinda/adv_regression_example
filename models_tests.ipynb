{
 "cells": [
  {
   "cell_type": "code",
   "execution_count": 34,
   "metadata": {},
   "outputs": [],
   "source": [
    "# main imports\n",
    "\n",
    "from datetime import datetime, timedelta\n",
    "\n",
    "import numpy as np\n",
    "import pandas as pd\n",
    "from matplotlib import pyplot as plt\n",
    "import seaborn as sns\n",
    "\n",
    "from sklearn.linear_model import LinearRegression, SGDRegressor, Lasso\n",
    "from sklearn.svm import LinearSVR, SVR\n",
    "from sklearn.tree import DecisionTreeRegressor\n",
    "from sklearn.ensemble import RandomForestRegressor, ExtraTreesRegressor, GradientBoostingRegressor\n",
    "from sklearn.model_selection import GridSearchCV, RandomizedSearchCV\n",
    "from sklearn.model_selection import train_test_split, cross_val_predict, cross_val_score, cross_validate\n",
    "\n",
    "import xgboost as xgb\n",
    "\n",
    "import joblib\n",
    "\n",
    "from tqdm import tqdm"
   ]
  },
  {
   "cell_type": "markdown",
   "metadata": {},
   "source": [
    "Performance measure is **Root-Mean-Squared-Error (RMSE) between the logarithm** of the predicted value and the logarithm of the observed sales price.  \n",
    "Taking logs means that errors in predicting expensive houses and cheap houses will affect the result almost equally"
   ]
  },
  {
   "cell_type": "code",
   "execution_count": 2,
   "metadata": {},
   "outputs": [],
   "source": [
    "from sklearn.metrics import mean_squared_log_error"
   ]
  },
  {
   "cell_type": "code",
   "execution_count": 3,
   "metadata": {},
   "outputs": [
    {
     "name": "stdout",
     "output_type": "stream",
     "text": [
      "<class 'pandas.core.frame.DataFrame'>\n",
      "Int64Index: 1460 entries, 0 to 1459\n",
      "Data columns (total 80 columns):\n",
      " #   Column         Non-Null Count  Dtype  \n",
      "---  ------         --------------  -----  \n",
      " 0   MSSubClass     1460 non-null   int64  \n",
      " 1   MSZoning       1460 non-null   object \n",
      " 2   LotFrontage    1201 non-null   float64\n",
      " 3   LotArea        1460 non-null   int64  \n",
      " 4   Street         1460 non-null   object \n",
      " 5   Alley          91 non-null     object \n",
      " 6   LotShape       1460 non-null   object \n",
      " 7   LandContour    1460 non-null   object \n",
      " 8   Utilities      1460 non-null   object \n",
      " 9   LotConfig      1460 non-null   object \n",
      " 10  LandSlope      1460 non-null   object \n",
      " 11  Neighborhood   1460 non-null   object \n",
      " 12  Condition1     1460 non-null   object \n",
      " 13  Condition2     1460 non-null   object \n",
      " 14  BldgType       1460 non-null   object \n",
      " 15  HouseStyle     1460 non-null   object \n",
      " 16  OverallQual    1460 non-null   int64  \n",
      " 17  OverallCond    1460 non-null   int64  \n",
      " 18  YearBuilt      1460 non-null   int64  \n",
      " 19  YearRemodAdd   1460 non-null   int64  \n",
      " 20  RoofStyle      1460 non-null   object \n",
      " 21  RoofMatl       1460 non-null   object \n",
      " 22  Exterior1st    1460 non-null   object \n",
      " 23  Exterior2nd    1460 non-null   object \n",
      " 24  MasVnrType     1452 non-null   object \n",
      " 25  MasVnrArea     1452 non-null   float64\n",
      " 26  ExterQual      1460 non-null   object \n",
      " 27  ExterCond      1460 non-null   object \n",
      " 28  Foundation     1460 non-null   object \n",
      " 29  BsmtQual       1423 non-null   object \n",
      " 30  BsmtCond       1423 non-null   object \n",
      " 31  BsmtExposure   1422 non-null   object \n",
      " 32  BsmtFinType1   1423 non-null   object \n",
      " 33  BsmtFinSF1     1460 non-null   int64  \n",
      " 34  BsmtFinType2   1422 non-null   object \n",
      " 35  BsmtFinSF2     1460 non-null   int64  \n",
      " 36  BsmtUnfSF      1460 non-null   int64  \n",
      " 37  TotalBsmtSF    1460 non-null   int64  \n",
      " 38  Heating        1460 non-null   object \n",
      " 39  HeatingQC      1460 non-null   object \n",
      " 40  CentralAir     1460 non-null   object \n",
      " 41  Electrical     1459 non-null   object \n",
      " 42  1stFlrSF       1460 non-null   int64  \n",
      " 43  2ndFlrSF       1460 non-null   int64  \n",
      " 44  LowQualFinSF   1460 non-null   int64  \n",
      " 45  GrLivArea      1460 non-null   int64  \n",
      " 46  BsmtFullBath   1460 non-null   int64  \n",
      " 47  BsmtHalfBath   1460 non-null   int64  \n",
      " 48  FullBath       1460 non-null   int64  \n",
      " 49  HalfBath       1460 non-null   int64  \n",
      " 50  BedroomAbvGr   1460 non-null   int64  \n",
      " 51  KitchenAbvGr   1460 non-null   int64  \n",
      " 52  KitchenQual    1460 non-null   object \n",
      " 53  TotRmsAbvGrd   1460 non-null   int64  \n",
      " 54  Functional     1460 non-null   object \n",
      " 55  Fireplaces     1460 non-null   int64  \n",
      " 56  FireplaceQu    770 non-null    object \n",
      " 57  GarageType     1379 non-null   object \n",
      " 58  GarageYrBlt    1379 non-null   float64\n",
      " 59  GarageFinish   1379 non-null   object \n",
      " 60  GarageCars     1460 non-null   int64  \n",
      " 61  GarageArea     1460 non-null   int64  \n",
      " 62  GarageQual     1379 non-null   object \n",
      " 63  GarageCond     1379 non-null   object \n",
      " 64  PavedDrive     1460 non-null   object \n",
      " 65  WoodDeckSF     1460 non-null   int64  \n",
      " 66  OpenPorchSF    1460 non-null   int64  \n",
      " 67  EnclosedPorch  1460 non-null   int64  \n",
      " 68  3SsnPorch      1460 non-null   int64  \n",
      " 69  ScreenPorch    1460 non-null   int64  \n",
      " 70  PoolArea       1460 non-null   int64  \n",
      " 71  PoolQC         7 non-null      object \n",
      " 72  Fence          281 non-null    object \n",
      " 73  MiscFeature    54 non-null     object \n",
      " 74  MiscVal        1460 non-null   int64  \n",
      " 75  MoSold         1460 non-null   int64  \n",
      " 76  YrSold         1460 non-null   int64  \n",
      " 77  SaleType       1460 non-null   object \n",
      " 78  SaleCondition  1460 non-null   object \n",
      " 79  SalePrice      1460 non-null   int64  \n",
      "dtypes: float64(3), int64(34), object(43)\n",
      "memory usage: 923.9+ KB\n"
     ]
    }
   ],
   "source": [
    "df_orig = pd.read_csv('datasets/processed/train_with_cat_dtypes.csv', index_col=0)\n",
    "df_orig.info()"
   ]
  },
  {
   "cell_type": "code",
   "execution_count": 4,
   "metadata": {},
   "outputs": [],
   "source": [
    "y = df_orig['SalePrice'].to_numpy()"
   ]
  },
  {
   "cell_type": "code",
   "execution_count": 5,
   "metadata": {},
   "outputs": [
    {
     "data": {
      "text/plain": [
       "(1460, 242)"
      ]
     },
     "execution_count": 5,
     "metadata": {},
     "output_type": "execute_result"
    }
   ],
   "source": [
    "X = np.genfromtxt('datasets/processed/train_numpy.csv', delimiter=',')\n",
    "X.shape"
   ]
  },
  {
   "cell_type": "code",
   "execution_count": 6,
   "metadata": {},
   "outputs": [
    {
     "name": "stdout",
     "output_type": "stream",
     "text": [
      "Train sets size:  (1168, 242) (1168,)\n",
      "Test sets size:  (292, 242) (292,)\n"
     ]
    }
   ],
   "source": [
    "X_train, X_test, y_train, y_test = train_test_split(X, y, test_size=0.2, random_state=42)\n",
    "print('Train sets size: ', X_train.shape, y_train.shape)\n",
    "print('Test sets size: ', X_test.shape, y_test.shape)"
   ]
  },
  {
   "cell_type": "code",
   "execution_count": 13,
   "metadata": {},
   "outputs": [],
   "source": [
    "def display_scores(scores):\n",
    "    print(\"Scores:\", scores)\n",
    "    print(\"Mean: {:.4f}\".format(scores.mean()))\n",
    "    print(\"Standard deviation: {:.4f}\".format(scores.std()))"
   ]
  },
  {
   "cell_type": "code",
   "execution_count": 8,
   "metadata": {},
   "outputs": [],
   "source": [
    "tree_reg = RandomForestRegressor(n_estimators=100)"
   ]
  },
  {
   "cell_type": "code",
   "execution_count": 18,
   "metadata": {},
   "outputs": [],
   "source": [
    "msle_scores = -cross_val_score(tree_reg, X_train, y_train, scoring='neg_mean_squared_log_error', cv=20)"
   ]
  },
  {
   "cell_type": "code",
   "execution_count": 19,
   "metadata": {},
   "outputs": [
    {
     "name": "stdout",
     "output_type": "stream",
     "text": [
      "Scores: [0.010413   0.01083772 0.0321938  0.0154611  0.01868446 0.01141718\n",
      " 0.03638039 0.02950421 0.04792345 0.01663434 0.04662888 0.02125678\n",
      " 0.01462603 0.02224293 0.01806678 0.01636184 0.01061323 0.02362926\n",
      " 0.00881507 0.01369258]\n",
      "Mean: 0.0213\n",
      "Standard deviation: 0.0113\n"
     ]
    }
   ],
   "source": [
    "display_scores(msle_scores)"
   ]
  },
  {
   "cell_type": "code",
   "execution_count": 27,
   "metadata": {},
   "outputs": [],
   "source": [
    "lin_reg = LinearRegression()"
   ]
  },
  {
   "cell_type": "code",
   "execution_count": 28,
   "metadata": {},
   "outputs": [
    {
     "name": "stderr",
     "output_type": "stream",
     "text": [
      "d:\\Work\\venv\\DataAnalysis\\lib\\site-packages\\sklearn\\model_selection\\_validation.py:770: UserWarning: Scoring failed. The score on this train-test partition for these parameters will be set to nan. Details: \n",
      "Traceback (most recent call last):\n",
      "  File \"d:\\Work\\venv\\DataAnalysis\\lib\\site-packages\\sklearn\\model_selection\\_validation.py\", line 761, in _score\n",
      "    scores = scorer(estimator, X_test, y_test)\n",
      "  File \"d:\\Work\\venv\\DataAnalysis\\lib\\site-packages\\sklearn\\metrics\\_scorer.py\", line 103, in __call__\n",
      "    score = scorer._score(cached_call, estimator, *args, **kwargs)\n",
      "  File \"d:\\Work\\venv\\DataAnalysis\\lib\\site-packages\\sklearn\\metrics\\_scorer.py\", line 264, in _score\n",
      "    return self._sign * self._score_func(y_true, y_pred, **self._kwargs)\n",
      "  File \"d:\\Work\\venv\\DataAnalysis\\lib\\site-packages\\sklearn\\metrics\\_regression.py\", line 521, in mean_squared_log_error\n",
      "    raise ValueError(\n",
      "ValueError: Mean Squared Logarithmic Error cannot be used when targets contain negative values.\n",
      "\n",
      "  warnings.warn(\n"
     ]
    }
   ],
   "source": [
    "msle_scores_lin = -cross_val_score(lin_reg, X_train, y_train, scoring='neg_mean_squared_log_error', cv=20)"
   ]
  },
  {
   "cell_type": "code",
   "execution_count": 29,
   "metadata": {},
   "outputs": [
    {
     "name": "stdout",
     "output_type": "stream",
     "text": [
      "Scores: [0.0186931  0.01867981 0.03613792        nan 0.02071832 0.01549932\n",
      " 0.09192751 0.03511453 0.06343416 0.04287464 0.03553469 0.03117754\n",
      " 0.02805025 0.03150997 0.01474568 0.0315053  0.02848419 0.04272895\n",
      " 0.05655863 0.01238099]\n",
      "Mean: nan\n",
      "Standard deviation: nan\n"
     ]
    }
   ],
   "source": [
    "display_scores(msle_scores_lin)"
   ]
  },
  {
   "cell_type": "code",
   "execution_count": 30,
   "metadata": {},
   "outputs": [
    {
     "data": {
      "text/plain": [
       "<matplotlib.collections.PathCollection at 0x2444197bac0>"
      ]
     },
     "execution_count": 30,
     "metadata": {},
     "output_type": "execute_result"
    },
    {
     "data": {
      "image/png": "[encoded data removed]",
      "text/plain": [
       "<Figure size 1080x720 with 1 Axes>"
      ]
     },
     "metadata": {
      "needs_background": "light"
     },
     "output_type": "display_data"
    }
   ],
   "source": [
    "fig, ax = plt.subplots(1, 1, figsize=(15, 10))\n",
    "plt.scatter(x=range(len(msle_scores)), y=msle_scores)\n",
    "plt.scatter(x=range(len(msle_scores_lin)), y=msle_scores_lin, c='red')"
   ]
  },
  {
   "cell_type": "code",
   "execution_count": 8,
   "metadata": {},
   "outputs": [
    {
     "data": {
      "text/plain": [
       "RandomForestRegressor()"
      ]
     },
     "execution_count": 8,
     "metadata": {},
     "output_type": "execute_result"
    }
   ],
   "source": [
    "tree_reg.fit(X_train, y_train)"
   ]
  },
  {
   "cell_type": "code",
   "execution_count": 35,
   "metadata": {},
   "outputs": [],
   "source": [
    "grid_params = [\n",
    "    {'n_estimators': [10, 50, 100, 200], 'max_features': [2, 4, 6, 8],},\n",
    "    {'bootstrap': [False], 'n_estimators': [10, 50, 100, 200], 'max_features': [2, 4, 6, 8]},\n",
    "]\n",
    "gscv_rforest = GridSearchCV(estimator=tree_reg, param_grid=grid_params, cv=5, scoring='neg_mean_squared_log_error', return_train_score=True)"
   ]
  },
  {
   "cell_type": "code",
   "execution_count": 36,
   "metadata": {},
   "outputs": [
    {
     "data": {
      "text/plain": [
       "GridSearchCV(cv=5, estimator=RandomForestRegressor(),\n",
       "             param_grid=[{'max_features': [2, 4, 6, 8],\n",
       "                          'n_estimators': [10, 50, 100, 200]},\n",
       "                         {'bootstrap': [False], 'max_features': [2, 4, 6, 8],\n",
       "                          'n_estimators': [10, 50, 100, 200]}],\n",
       "             return_train_score=True, scoring='neg_mean_squared_log_error')"
      ]
     },
     "execution_count": 36,
     "metadata": {},
     "output_type": "execute_result"
    }
   ],
   "source": [
    "gscv_rforest.fit(X_train, y_train)"
   ]
  },
  {
   "cell_type": "code",
   "execution_count": 37,
   "metadata": {},
   "outputs": [
    {
     "data": {
      "text/plain": [
       "{'bootstrap': False, 'max_features': 8, 'n_estimators': 200}"
      ]
     },
     "execution_count": 37,
     "metadata": {},
     "output_type": "execute_result"
    }
   ],
   "source": [
    "gscv_rforest.best_params_"
   ]
  },
  {
   "cell_type": "code",
   "execution_count": 38,
   "metadata": {},
   "outputs": [],
   "source": [
    "gscv_res = gscv_rforest.cv_results_"
   ]
  },
  {
   "cell_type": "code",
   "execution_count": 40,
   "metadata": {},
   "outputs": [
    {
     "data": {
      "text/plain": [
       "dict_keys(['mean_fit_time', 'std_fit_time', 'mean_score_time', 'std_score_time', 'param_max_features', 'param_n_estimators', 'param_bootstrap', 'params', 'split0_test_score', 'split1_test_score', 'split2_test_score', 'split3_test_score', 'split4_test_score', 'mean_test_score', 'std_test_score', 'rank_test_score', 'split0_train_score', 'split1_train_score', 'split2_train_score', 'split3_train_score', 'split4_train_score', 'mean_train_score', 'std_train_score'])"
      ]
     },
     "execution_count": 40,
     "metadata": {},
     "output_type": "execute_result"
    }
   ],
   "source": [
    "gscv_res.keys()"
   ]
  },
  {
   "cell_type": "code",
   "execution_count": 39,
   "metadata": {},
   "outputs": [
    {
     "name": "stdout",
     "output_type": "stream",
     "text": [
      "0.03647686859973566 {'max_features': 2, 'n_estimators': 10}\n",
      "0.029254504856119017 {'max_features': 2, 'n_estimators': 50}\n",
      "0.02976401726139714 {'max_features': 2, 'n_estimators': 100}\n",
      "0.028734784226433708 {'max_features': 2, 'n_estimators': 200}\n",
      "0.03302302353676654 {'max_features': 4, 'n_estimators': 10}\n",
      "0.027548639397705955 {'max_features': 4, 'n_estimators': 50}\n",
      "0.026643955345885973 {'max_features': 4, 'n_estimators': 100}\n",
      "0.02624447728144292 {'max_features': 4, 'n_estimators': 200}\n",
      "0.030348341338949363 {'max_features': 6, 'n_estimators': 10}\n",
      "0.025300570824234835 {'max_features': 6, 'n_estimators': 50}\n",
      "0.025055393661315612 {'max_features': 6, 'n_estimators': 100}\n",
      "0.024865025852953557 {'max_features': 6, 'n_estimators': 200}\n",
      "0.028214580106186125 {'max_features': 8, 'n_estimators': 10}\n",
      "0.023572442522464293 {'max_features': 8, 'n_estimators': 50}\n",
      "0.023617357802573784 {'max_features': 8, 'n_estimators': 100}\n",
      "0.023620162326752833 {'max_features': 8, 'n_estimators': 200}\n",
      "0.034644625520905914 {'bootstrap': False, 'max_features': 2, 'n_estimators': 10}\n",
      "0.02717689679790234 {'bootstrap': False, 'max_features': 2, 'n_estimators': 50}\n",
      "0.026843192102139167 {'bootstrap': False, 'max_features': 2, 'n_estimators': 100}\n",
      "0.02672690364743353 {'bootstrap': False, 'max_features': 2, 'n_estimators': 200}\n",
      "0.02974951448944003 {'bootstrap': False, 'max_features': 4, 'n_estimators': 10}\n",
      "0.025358804138064274 {'bootstrap': False, 'max_features': 4, 'n_estimators': 50}\n",
      "0.02444809410061386 {'bootstrap': False, 'max_features': 4, 'n_estimators': 100}\n",
      "0.024187106824816586 {'bootstrap': False, 'max_features': 4, 'n_estimators': 200}\n",
      "0.029103922549503152 {'bootstrap': False, 'max_features': 6, 'n_estimators': 10}\n",
      "0.02351553464012 {'bootstrap': False, 'max_features': 6, 'n_estimators': 50}\n",
      "0.02264657767766785 {'bootstrap': False, 'max_features': 6, 'n_estimators': 100}\n",
      "0.022503877468877487 {'bootstrap': False, 'max_features': 6, 'n_estimators': 200}\n",
      "0.027196602134845697 {'bootstrap': False, 'max_features': 8, 'n_estimators': 10}\n",
      "0.021802591194042473 {'bootstrap': False, 'max_features': 8, 'n_estimators': 50}\n",
      "0.021831479111392167 {'bootstrap': False, 'max_features': 8, 'n_estimators': 100}\n",
      "0.021703452377962933 {'bootstrap': False, 'max_features': 8, 'n_estimators': 200}\n"
     ]
    }
   ],
   "source": [
    "for mean_score, params in zip(gscv_res[\"mean_test_score\"], gscv_res[\"params\"]):\n",
    "    print(-mean_score, params)"
   ]
  },
  {
   "cell_type": "code",
   "execution_count": 41,
   "metadata": {},
   "outputs": [],
   "source": [
    "rforest_reg = gscv_rforest.best_estimator_"
   ]
  },
  {
   "cell_type": "code",
   "execution_count": 42,
   "metadata": {},
   "outputs": [
    {
     "data": {
      "text/plain": [
       "0.8528427599417183"
      ]
     },
     "execution_count": 42,
     "metadata": {},
     "output_type": "execute_result"
    }
   ],
   "source": [
    "rforest_reg.score(X_test, y_test)"
   ]
  },
  {
   "cell_type": "code",
   "execution_count": 43,
   "metadata": {},
   "outputs": [
    {
     "data": {
      "text/plain": [
       "0.027649950113018046"
      ]
     },
     "execution_count": 43,
     "metadata": {},
     "output_type": "execute_result"
    }
   ],
   "source": [
    "mean_squared_log_error(y_test, rforest_reg.predict(X_test))\n"
   ]
  },
  {
   "cell_type": "code",
   "execution_count": 45,
   "metadata": {},
   "outputs": [
    {
     "data": {
      "text/plain": [
       "RandomForestRegressor(bootstrap=False, max_features=8, n_estimators=200)"
      ]
     },
     "execution_count": 45,
     "metadata": {},
     "output_type": "execute_result"
    }
   ],
   "source": [
    "rforest_reg"
   ]
  },
  {
   "cell_type": "code",
   "execution_count": 69,
   "metadata": {},
   "outputs": [],
   "source": [
    "grid_params = [\n",
    "    {'bootstrap': [False], 'n_estimators': [x for x in range(100, 1001, 100)]} # , 'max_features': [2, 4, 6, 8]\n",
    "]"
   ]
  },
  {
   "cell_type": "code",
   "execution_count": 70,
   "metadata": {},
   "outputs": [],
   "source": [
    "gscv_rforest = GridSearchCV(estimator=rforest_reg, param_grid=grid_params, cv=10, scoring='neg_mean_squared_log_error', return_train_score=True)"
   ]
  },
  {
   "cell_type": "code",
   "execution_count": 71,
   "metadata": {},
   "outputs": [
    {
     "data": {
      "text/plain": [
       "GridSearchCV(cv=10,\n",
       "             estimator=RandomForestRegressor(bootstrap=False, max_features=8,\n",
       "                                             n_estimators=200),\n",
       "             param_grid=[{'bootstrap': [False],\n",
       "                          'n_estimators': [100, 200, 300, 400, 500, 600, 700,\n",
       "                                           800, 900, 1000]}],\n",
       "             return_train_score=True, scoring='neg_mean_squared_log_error')"
      ]
     },
     "execution_count": 71,
     "metadata": {},
     "output_type": "execute_result"
    }
   ],
   "source": [
    "gscv_rforest.fit(X_train, y_train)"
   ]
  },
  {
   "cell_type": "code",
   "execution_count": 72,
   "metadata": {},
   "outputs": [],
   "source": [
    "gscv_rforest_res = gscv_rforest.cv_results_"
   ]
  },
  {
   "cell_type": "code",
   "execution_count": 49,
   "metadata": {},
   "outputs": [
    {
     "data": {
      "text/plain": [
       "dict_keys(['mean_fit_time', 'std_fit_time', 'mean_score_time', 'std_score_time', 'param_bootstrap', 'param_n_estimators', 'params', 'split0_test_score', 'split1_test_score', 'split2_test_score', 'split3_test_score', 'split4_test_score', 'split5_test_score', 'split6_test_score', 'split7_test_score', 'split8_test_score', 'split9_test_score', 'mean_test_score', 'std_test_score', 'rank_test_score', 'split0_train_score', 'split1_train_score', 'split2_train_score', 'split3_train_score', 'split4_train_score', 'split5_train_score', 'split6_train_score', 'split7_train_score', 'split8_train_score', 'split9_train_score', 'mean_train_score', 'std_train_score'])"
      ]
     },
     "execution_count": 49,
     "metadata": {},
     "output_type": "execute_result"
    }
   ],
   "source": [
    "gscv_rforest_res.keys()"
   ]
  },
  {
   "cell_type": "code",
   "execution_count": 73,
   "metadata": {},
   "outputs": [
    {
     "data": {
      "text/plain": [
       "10"
      ]
     },
     "execution_count": 73,
     "metadata": {},
     "output_type": "execute_result"
    }
   ],
   "source": [
    "param_n_estimators = [x['n_estimators'] for x in gscv_rforest_res['params']]\n",
    "len(param_n_estimators)"
   ]
  },
  {
   "cell_type": "code",
   "execution_count": 76,
   "metadata": {},
   "outputs": [
    {
     "data": {
      "image/png": "[encoded data removed]",
      "text/plain": [
       "<Figure size 1080x720 with 1 Axes>"
      ]
     },
     "metadata": {
      "needs_background": "light"
     },
     "output_type": "display_data"
    }
   ],
   "source": [
    "upper_bound = -gscv_rforest_res['mean_test_score'] + gscv_rforest_res['std_test_score']\n",
    "lower_bound = -gscv_rforest_res['mean_test_score'] - gscv_rforest_res['std_test_score']\n",
    "fig, ax = plt.subplots(1, 1, figsize=(15, 10))\n",
    "plt.plot(param_n_estimators, -gscv_rforest_res['mean_test_score'])\n",
    "plt.fill_between(param_n_estimators, upper_bound, lower_bound, alpha=0.5)\n",
    "ax.set_ybound(lower=0.0, upper=0.05)\n",
    "plt.xticks(range(0, 1001, 100));"
   ]
  },
  {
   "cell_type": "code",
   "execution_count": 75,
   "metadata": {},
   "outputs": [
    {
     "data": {
      "image/png": "[encoded data removed]",
      "text/plain": [
       "<Figure size 1080x720 with 1 Axes>"
      ]
     },
     "metadata": {
      "needs_background": "light"
     },
     "output_type": "display_data"
    }
   ],
   "source": [
    "fittime_upper_bound = gscv_rforest_res['mean_fit_time'] + gscv_rforest_res['std_fit_time']\n",
    "fittime_lower_bound = gscv_rforest_res['mean_fit_time'] - gscv_rforest_res['std_fit_time']\n",
    "fig, ax = plt.subplots(1, 1, figsize=(15, 10))\n",
    "plt.plot(param_n_estimators, gscv_rforest_res['mean_fit_time'])\n",
    "plt.fill_between(param_n_estimators, fittime_upper_bound, fittime_lower_bound, alpha=0.5)\n",
    "plt.xticks(range(0, 1001, 100));\n",
    "#ax.set_ybound(lower=0.0, upper=0.05)"
   ]
  },
  {
   "cell_type": "code",
   "execution_count": 77,
   "metadata": {},
   "outputs": [
    {
     "data": {
      "text/plain": [
       "600"
      ]
     },
     "execution_count": 77,
     "metadata": {},
     "output_type": "execute_result"
    }
   ],
   "source": [
    "gscv_rforest.best_estimator_.n_estimators"
   ]
  },
  {
   "cell_type": "code",
   "execution_count": 78,
   "metadata": {},
   "outputs": [],
   "source": [
    "grid_params = [\n",
    "    {'bootstrap': [False], 'n_estimators': [600], 'max_features': [x for x in range(2, 21, 2)]}\n",
    "]\n",
    "gscv_rforest = GridSearchCV(estimator=rforest_reg, param_grid=grid_params, cv=10, scoring='neg_mean_squared_log_error', return_train_score=True)"
   ]
  },
  {
   "cell_type": "code",
   "execution_count": 79,
   "metadata": {},
   "outputs": [
    {
     "data": {
      "text/plain": [
       "GridSearchCV(cv=10,\n",
       "             estimator=RandomForestRegressor(bootstrap=False, max_features=8,\n",
       "                                             n_estimators=200),\n",
       "             param_grid=[{'bootstrap': [False],\n",
       "                          'max_features': [2, 4, 6, 8, 10, 12, 14, 16, 18, 20],\n",
       "                          'n_estimators': [600]}],\n",
       "             return_train_score=True, scoring='neg_mean_squared_log_error')"
      ]
     },
     "execution_count": 79,
     "metadata": {},
     "output_type": "execute_result"
    }
   ],
   "source": [
    "gscv_rforest.fit(X_train, y_train)"
   ]
  },
  {
   "cell_type": "code",
   "execution_count": 81,
   "metadata": {},
   "outputs": [],
   "source": [
    "gscv_rforest_res = gscv_rforest.cv_results_"
   ]
  },
  {
   "cell_type": "code",
   "execution_count": 82,
   "metadata": {},
   "outputs": [
    {
     "data": {
      "text/plain": [
       "10"
      ]
     },
     "execution_count": 82,
     "metadata": {},
     "output_type": "execute_result"
    }
   ],
   "source": [
    "x_params = [x['max_features'] for x in gscv_rforest_res['params']]\n",
    "len(x_params)"
   ]
  },
  {
   "cell_type": "code",
   "execution_count": 86,
   "metadata": {},
   "outputs": [
    {
     "data": {
      "image/png": "[encoded data removed]",
      "text/plain": [
       "<Figure size 1080x720 with 1 Axes>"
      ]
     },
     "metadata": {
      "needs_background": "light"
     },
     "output_type": "display_data"
    }
   ],
   "source": [
    "upper_bound = -gscv_rforest_res['mean_test_score'] + gscv_rforest_res['std_test_score']\n",
    "lower_bound = -gscv_rforest_res['mean_test_score'] - gscv_rforest_res['std_test_score']\n",
    "fig, ax = plt.subplots(1, 1, figsize=(15, 10))\n",
    "plt.plot(x_params, -gscv_rforest_res['mean_test_score'])\n",
    "plt.fill_between(x_params, upper_bound, lower_bound, alpha=0.5)\n",
    "ax.set_ybound(lower=0.0, upper=0.04)\n",
    "plt.xticks(x_params);"
   ]
  },
  {
   "cell_type": "code",
   "execution_count": 84,
   "metadata": {},
   "outputs": [
    {
     "data": {
      "image/png": "[encoded data removed]",
      "text/plain": [
       "<Figure size 1080x720 with 1 Axes>"
      ]
     },
     "metadata": {
      "needs_background": "light"
     },
     "output_type": "display_data"
    }
   ],
   "source": [
    "fittime_upper_bound = gscv_rforest_res['mean_fit_time'] + gscv_rforest_res['std_fit_time']\n",
    "fittime_lower_bound = gscv_rforest_res['mean_fit_time'] - gscv_rforest_res['std_fit_time']\n",
    "fig, ax = plt.subplots(1, 1, figsize=(15, 10))\n",
    "plt.plot(x_params, gscv_rforest_res['mean_fit_time'])\n",
    "plt.fill_between(x_params, fittime_upper_bound, fittime_lower_bound, alpha=0.5)\n",
    "plt.xticks(x_params);\n",
    "#ax.set_ybound(lower=0.0, upper=0.05)"
   ]
  },
  {
   "cell_type": "code",
   "execution_count": 90,
   "metadata": {},
   "outputs": [],
   "source": [
    "work_model = gscv_rforest.best_estimator_"
   ]
  },
  {
   "cell_type": "markdown",
   "metadata": {},
   "source": [
    "## Make 1st prediction submit for Kaggle"
   ]
  },
  {
   "cell_type": "code",
   "execution_count": 87,
   "metadata": {},
   "outputs": [
    {
     "data": {
      "text/plain": [
       "(1459, 242)"
      ]
     },
     "execution_count": 87,
     "metadata": {},
     "output_type": "execute_result"
    }
   ],
   "source": [
    "# loading processed data from data_clean_prepare.ipynb results\n",
    "final_X_test = np.genfromtxt('datasets/processed/test_numpy.csv', delimiter=',')\n",
    "final_X_test.shape"
   ]
  },
  {
   "cell_type": "code",
   "execution_count": 92,
   "metadata": {},
   "outputs": [
    {
     "name": "stdout",
     "output_type": "stream",
     "text": [
      "<class 'pandas.core.frame.DataFrame'>\n",
      "Int64Index: 1459 entries, 1461 to 2919\n",
      "Data columns (total 79 columns):\n",
      " #   Column         Non-Null Count  Dtype  \n",
      "---  ------         --------------  -----  \n",
      " 0   MSSubClass     1459 non-null   int64  \n",
      " 1   MSZoning       1455 non-null   object \n",
      " 2   LotFrontage    1232 non-null   float64\n",
      " 3   LotArea        1459 non-null   int64  \n",
      " 4   Street         1459 non-null   object \n",
      " 5   Alley          107 non-null    object \n",
      " 6   LotShape       1459 non-null   object \n",
      " 7   LandContour    1459 non-null   object \n",
      " 8   Utilities      1457 non-null   object \n",
      " 9   LotConfig      1459 non-null   object \n",
      " 10  LandSlope      1459 non-null   object \n",
      " 11  Neighborhood   1459 non-null   object \n",
      " 12  Condition1     1459 non-null   object \n",
      " 13  Condition2     1459 non-null   object \n",
      " 14  BldgType       1459 non-null   object \n",
      " 15  HouseStyle     1459 non-null   object \n",
      " 16  OverallQual    1459 non-null   int64  \n",
      " 17  OverallCond    1459 non-null   int64  \n",
      " 18  YearBuilt      1459 non-null   int64  \n",
      " 19  YearRemodAdd   1459 non-null   int64  \n",
      " 20  RoofStyle      1459 non-null   object \n",
      " 21  RoofMatl       1459 non-null   object \n",
      " 22  Exterior1st    1458 non-null   object \n",
      " 23  Exterior2nd    1458 non-null   object \n",
      " 24  MasVnrType     1443 non-null   object \n",
      " 25  MasVnrArea     1444 non-null   float64\n",
      " 26  ExterQual      1459 non-null   object \n",
      " 27  ExterCond      1459 non-null   object \n",
      " 28  Foundation     1459 non-null   object \n",
      " 29  BsmtQual       1415 non-null   object \n",
      " 30  BsmtCond       1414 non-null   object \n",
      " 31  BsmtExposure   1415 non-null   object \n",
      " 32  BsmtFinType1   1417 non-null   object \n",
      " 33  BsmtFinSF1     1458 non-null   float64\n",
      " 34  BsmtFinType2   1417 non-null   object \n",
      " 35  BsmtFinSF2     1458 non-null   float64\n",
      " 36  BsmtUnfSF      1458 non-null   float64\n",
      " 37  TotalBsmtSF    1458 non-null   float64\n",
      " 38  Heating        1459 non-null   object \n",
      " 39  HeatingQC      1459 non-null   object \n",
      " 40  CentralAir     1459 non-null   object \n",
      " 41  Electrical     1459 non-null   object \n",
      " 42  1stFlrSF       1459 non-null   int64  \n",
      " 43  2ndFlrSF       1459 non-null   int64  \n",
      " 44  LowQualFinSF   1459 non-null   int64  \n",
      " 45  GrLivArea      1459 non-null   int64  \n",
      " 46  BsmtFullBath   1457 non-null   float64\n",
      " 47  BsmtHalfBath   1457 non-null   float64\n",
      " 48  FullBath       1459 non-null   int64  \n",
      " 49  HalfBath       1459 non-null   int64  \n",
      " 50  BedroomAbvGr   1459 non-null   int64  \n",
      " 51  KitchenAbvGr   1459 non-null   int64  \n",
      " 52  KitchenQual    1458 non-null   object \n",
      " 53  TotRmsAbvGrd   1459 non-null   int64  \n",
      " 54  Functional     1457 non-null   object \n",
      " 55  Fireplaces     1459 non-null   int64  \n",
      " 56  FireplaceQu    729 non-null    object \n",
      " 57  GarageType     1383 non-null   object \n",
      " 58  GarageYrBlt    1381 non-null   float64\n",
      " 59  GarageFinish   1381 non-null   object \n",
      " 60  GarageCars     1458 non-null   float64\n",
      " 61  GarageArea     1458 non-null   float64\n",
      " 62  GarageQual     1381 non-null   object \n",
      " 63  GarageCond     1381 non-null   object \n",
      " 64  PavedDrive     1459 non-null   object \n",
      " 65  WoodDeckSF     1459 non-null   int64  \n",
      " 66  OpenPorchSF    1459 non-null   int64  \n",
      " 67  EnclosedPorch  1459 non-null   int64  \n",
      " 68  3SsnPorch      1459 non-null   int64  \n",
      " 69  ScreenPorch    1459 non-null   int64  \n",
      " 70  PoolArea       1459 non-null   int64  \n",
      " 71  PoolQC         3 non-null      object \n",
      " 72  Fence          290 non-null    object \n",
      " 73  MiscFeature    51 non-null     object \n",
      " 74  MiscVal        1459 non-null   int64  \n",
      " 75  MoSold         1459 non-null   int64  \n",
      " 76  YrSold         1459 non-null   int64  \n",
      " 77  SaleType       1458 non-null   object \n",
      " 78  SaleCondition  1459 non-null   object \n",
      "dtypes: float64(11), int64(25), object(43)\n",
      "memory usage: 911.9+ KB\n"
     ]
    }
   ],
   "source": [
    "df_test = pd.read_csv('datasets/test.csv', index_col=0)\n",
    "df_test.info()"
   ]
  },
  {
   "cell_type": "code",
   "execution_count": 91,
   "metadata": {},
   "outputs": [],
   "source": [
    "predictions = work_model.predict(final_X_test)"
   ]
  },
  {
   "cell_type": "code",
   "execution_count": 95,
   "metadata": {},
   "outputs": [
    {
     "name": "stdout",
     "output_type": "stream",
     "text": [
      "<class 'pandas.core.series.Series'>\n",
      "Int64Index: 1459 entries, 1461 to 2919\n",
      "Series name: SalePrice\n",
      "Non-Null Count  Dtype  \n",
      "--------------  -----  \n",
      "1459 non-null   float64\n",
      "dtypes: float64(1)\n",
      "memory usage: 22.8 KB\n"
     ]
    }
   ],
   "source": [
    "df_predictions = pd.Series(predictions, index=df_test.index, name='SalePrice')\n",
    "df_predictions.info()"
   ]
  },
  {
   "cell_type": "code",
   "execution_count": 96,
   "metadata": {},
   "outputs": [],
   "source": [
    "df_predictions.to_csv('datasets/test_predictions_v1.csv')"
   ]
  }
 ],
 "metadata": {
  "kernelspec": {
   "display_name": "Python 3.9.7 ('DataAnalysis')",
   "language": "python",
   "name": "python3"
  },
  "language_info": {
   "codemirror_mode": {
    "name": "ipython",
    "version": 3
   },
   "file_extension": ".py",
   "mimetype": "text/x-python",
   "name": "python",
   "nbconvert_exporter": "python",
   "pygments_lexer": "ipython3",
   "version": "3.9.7"
  },
  "orig_nbformat": 4,
  "vscode": {
   "interpreter": {
    "hash": "fbcaf1e124f24326c7e3b445f5d7b5429d4c76c9ac6991720bc6aba599109c38"
   }
  }
 },
 "nbformat": 4,
 "nbformat_minor": 2
}
